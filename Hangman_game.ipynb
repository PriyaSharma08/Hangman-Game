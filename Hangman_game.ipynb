{
  "nbformat": 4,
  "nbformat_minor": 0,
  "metadata": {
    "colab": {
      "provenance": [],
      "include_colab_link": true
    },
    "kernelspec": {
      "name": "python3",
      "display_name": "Python 3"
    },
    "language_info": {
      "name": "python"
    }
  },
  "cells": [
    {
      "cell_type": "markdown",
      "metadata": {
        "id": "view-in-github",
        "colab_type": "text"
      },
      "source": [
        "<a href=\"https://colab.research.google.com/github/PriyaSharma08/Hangman-Game/blob/main/Hangman_game.ipynb\" target=\"_parent\"><img src=\"https://colab.research.google.com/assets/colab-badge.svg\" alt=\"Open In Colab\"/></a>"
      ]
    },
    {
      "cell_type": "code",
      "source": [
        "import random\n",
        "\n",
        "def get_random_word(filename):\n",
        "    with open(filename, 'r') as file:\n",
        "        words = file.readlines()\n",
        "    words = [word.strip() for word in words]\n",
        "    return random.choice(words)\n",
        "\n",
        "def get_hangman_stages(filename):\n",
        "    with open(filename, 'r') as file:\n",
        "        stages = file.read().split('###')\n",
        "    return stages\n",
        "\n",
        "def display_hangman(stages, tries):\n",
        "    return stages[tries]\n",
        "\n",
        "def play_game(words_file, stages_file):\n",
        "    word = get_random_word(words_file)\n",
        "    stages = get_hangman_stages(stages_file)\n",
        "    word_letters = set(word)  # Letters in the word\n",
        "    guessed_letters = set()  # Letters guessed by the user\n",
        "    correct_letters = set()  # Correctly guessed letters\n",
        "    tries = 6  # Reduced number of tries\n",
        "\n",
        "    print(\"Let's play Hangman!\")\n",
        "    print(display_hangman(stages, tries))\n",
        "    print(\"_ \" * len(word))\n",
        "\n",
        "    while tries > 0:\n",
        "        print(\"tries \", tries)\n",
        "        guess = input(\"Guess a letter: \").lower()\n",
        "\n",
        "        if len(guess) != 1 or not guess.isalpha():\n",
        "            print(\"Invalid input. Please guess a single letter.\")\n",
        "            continue\n",
        "\n",
        "        if guess in guessed_letters:\n",
        "            print(\"You already guessed that letter.\")\n",
        "            continue\n",
        "\n",
        "        guessed_letters.add(guess)\n",
        "\n",
        "        if guess in word_letters:\n",
        "            correct_letters.add(guess)\n",
        "            print(f\"Good job! '{guess}' is in the word.\")\n",
        "        else:\n",
        "            tries -= 1\n",
        "            print(f\"Sorry, '{guess}' is not in the word. You have {tries} tries left.\")\n",
        "            print(display_hangman(stages, tries))\n",
        "\n",
        "        # Display the current state of the word\n",
        "        current_word = [letter if letter in correct_letters else '_' for letter in word]\n",
        "        print(\" \".join(current_word))\n",
        "\n",
        "        if correct_letters == word_letters:\n",
        "            print(f\"Congratulations! You've guessed the word '{word}' correctly.\")\n",
        "            return\n",
        "\n",
        "    print(f\"Game over! The word was '{word}'.\")\n",
        "\n",
        "if __name__ == \"__main__\":\n",
        "    words_file = 'words.txt'\n",
        "    stages_file = 'stages.txt'\n",
        "    play_game(words_file, stages_file)"
      ],
      "metadata": {
        "colab": {
          "base_uri": "https://localhost:8080/"
        },
        "id": "Ev9jRYgUMwp4",
        "outputId": "269cd023-036f-4402-ba92-a92023d5563c"
      },
      "execution_count": null,
      "outputs": [
        {
          "output_type": "stream",
          "name": "stdout",
          "text": [
            "Let's play Hangman!\n",
            "\n",
            "-----\n",
            "|   |\n",
            "O   |\n",
            "/|\\\\ |\n",
            "/ \\\\ |\n",
            "    |\n",
            "--------\n",
            "\n",
            "_ _ _ _ _ _ _ \n",
            "tries  6\n",
            "Guess a letter: a\n",
            "Good job! 'a' is in the word.\n",
            "_ a _ _ _ a _\n",
            "tries  6\n",
            "Guess a letter: j\n",
            "Sorry, 'j' is not in the word. You have 5 tries left.\n",
            "\n",
            "-----\n",
            "|   |\n",
            "O   |\n",
            "/|\\\\ |\n",
            "/   |\n",
            "    |\n",
            "--------\n",
            "\n",
            "_ a _ _ _ a _\n",
            "tries  5\n",
            "Guess a letter: h\n",
            "Good job! 'h' is in the word.\n",
            "h a _ _ _ a _\n",
            "tries  5\n",
            "Guess a letter: n\n",
            "Good job! 'n' is in the word.\n",
            "h a n _ _ a n\n",
            "tries  5\n",
            "Guess a letter: g\n",
            "Good job! 'g' is in the word.\n",
            "h a n g _ a n\n",
            "tries  5\n",
            "Guess a letter: m\n",
            "Good job! 'm' is in the word.\n",
            "h a n g m a n\n",
            "Congratulations! You've guessed the word 'hangman' correctly.\n"
          ]
        }
      ]
    }
  ]
}